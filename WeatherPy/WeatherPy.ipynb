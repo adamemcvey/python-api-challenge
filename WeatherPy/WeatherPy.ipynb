{
 "cells": [
  {
   "cell_type": "markdown",
   "metadata": {},
   "source": [
    "# WeatherPy\n",
    "----\n",
    "\n",
    "#### Note\n",
    "* Instructions have been included for each segment. You do not have to follow them exactly, but they are included to help you think through the steps."
   ]
  },
  {
   "cell_type": "markdown",
   "metadata": {},
   "source": [
    "Observations/Analysis:\n",
    "\n",
    "1) Obviously the only variable that is decently correlated with latitude is maximum temperature: as cities move away from the equator their maximum temperatures decrease. No other variable was correlated strongly enough with latitude to suggest a meaningful relationship. Temperature is not simply determined by solar radiation and angles, but it can be inferred that it is much less complex than how humidity, cloud cover, and wind speed are determined.\n",
    "\n",
    "2) Interestingly, for every failed correlation, it was much weaker in the northern hemisphere than in the southern hemisphere. Even though there was no correlation between latitude and humidity/cloudiness/wind speed in either hemisphere, it was noticeably \"stronger\" in the south. The southern hemisphere has much less land than the northern hemisphere, and while this no doubt affects the climate in myriad ways, the explanation might be simpler. There is less land, therefore fewer cities, therefore less data, therefore any regression will inherently be stronger because it is a smaller sample.\n",
    "\n",
    "3) There are some minor things that are noticeable, even if other plots weren't correlated. For example, when it comes to humidity and latitude, in both the nothern and southern hemispheres, cities appear (but it's not suggested by regression) to have a lower humidity around |30| degrees. This tracks with the fact that this is typically where most of the Earth's deserts appear, thanks to being on convergent zones between the Ferrell and Hadley Cells. But for the other two variables, no clear patterns (even if weak) are discernable.\n"
   ]
  },
  {
   "cell_type": "code",
   "execution_count": 2,
   "metadata": {
    "scrolled": true
   },
   "outputs": [],
   "source": [
    "# Dependencies and Setup\n",
    "import matplotlib.pyplot as plt\n",
    "import pandas as pd\n",
    "import numpy as np\n",
    "import requests\n",
    "import time\n",
    "from scipy.stats import linregress\n",
    "\n",
    "# Import API key\n",
    "from api_keys import weather_api_key\n",
    "\n",
    "# Incorporated citipy to determine city based on latitude and longitude\n",
    "from citipy import citipy\n",
    "\n",
    "# Range of latitudes and longitudes\n",
    "lat_range = (-90, 90)\n",
    "lng_range = (-180, 180)"
   ]
  },
  {
   "cell_type": "markdown",
   "metadata": {},
   "source": [
    "## Generate Cities List"
   ]
  },
  {
   "cell_type": "code",
   "execution_count": 4,
   "metadata": {},
   "outputs": [
    {
     "data": {
      "text/plain": [
       "601"
      ]
     },
     "execution_count": 4,
     "metadata": {},
     "output_type": "execute_result"
    }
   ],
   "source": [
    "# List for holding lat_lngs and cities and countries\n",
    "lat_lngs = []\n",
    "cities = []\n",
    "countries = []\n",
    "\n",
    "# Create a set of random lat and lng combinations\n",
    "lats = np.random.uniform(lat_range[0], lat_range[1], size=1500)\n",
    "lngs = np.random.uniform(lng_range[0], lng_range[1], size=1500)\n",
    "lat_lngs = zip(lats, lngs)\n",
    "\n",
    "# Identify nearest city for each lat, lng combination, and the country code for that same lat, lng combination\n",
    "for lat_lng in lat_lngs:\n",
    "    city = citipy.nearest_city(lat_lng[0], lat_lng[1]).city_name\n",
    "    country = citipy.nearest_city(lat_lng[0], lat_lng[1]).country_code\n",
    "    # If the city is unique, then add it to a our cities list\n",
    "    # add the country code (made uppercase) into the countries list\n",
    "    if city not in cities:\n",
    "        cities.append(city)\n",
    "        countries.append(country.upper())\n",
    "\n",
    "# Print the city count to confirm sufficient count\n",
    "len(cities)"
   ]
  },
  {
   "cell_type": "code",
   "execution_count": 5,
   "metadata": {},
   "outputs": [
    {
     "data": {
      "text/html": [
       "<div>\n",
       "<style scoped>\n",
       "    .dataframe tbody tr th:only-of-type {\n",
       "        vertical-align: middle;\n",
       "    }\n",
       "\n",
       "    .dataframe tbody tr th {\n",
       "        vertical-align: top;\n",
       "    }\n",
       "\n",
       "    .dataframe thead th {\n",
       "        text-align: right;\n",
       "    }\n",
       "</style>\n",
       "<table border=\"1\" class=\"dataframe\">\n",
       "  <thead>\n",
       "    <tr style=\"text-align: right;\">\n",
       "      <th></th>\n",
       "      <th>City</th>\n",
       "      <th>Lat</th>\n",
       "      <th>Lng</th>\n",
       "      <th>Max Temp</th>\n",
       "      <th>Humidity</th>\n",
       "      <th>Cloudiness</th>\n",
       "      <th>Wind Speed</th>\n",
       "      <th>Country</th>\n",
       "      <th>Date</th>\n",
       "    </tr>\n",
       "  </thead>\n",
       "  <tbody>\n",
       "    <tr>\n",
       "      <th>0</th>\n",
       "      <td>trofors</td>\n",
       "      <td></td>\n",
       "      <td></td>\n",
       "      <td></td>\n",
       "      <td></td>\n",
       "      <td></td>\n",
       "      <td></td>\n",
       "      <td>NO</td>\n",
       "      <td></td>\n",
       "    </tr>\n",
       "    <tr>\n",
       "      <th>1</th>\n",
       "      <td>albany</td>\n",
       "      <td></td>\n",
       "      <td></td>\n",
       "      <td></td>\n",
       "      <td></td>\n",
       "      <td></td>\n",
       "      <td></td>\n",
       "      <td>AU</td>\n",
       "      <td></td>\n",
       "    </tr>\n",
       "    <tr>\n",
       "      <th>2</th>\n",
       "      <td>la ronge</td>\n",
       "      <td></td>\n",
       "      <td></td>\n",
       "      <td></td>\n",
       "      <td></td>\n",
       "      <td></td>\n",
       "      <td></td>\n",
       "      <td>CA</td>\n",
       "      <td></td>\n",
       "    </tr>\n",
       "    <tr>\n",
       "      <th>3</th>\n",
       "      <td>bredasdorp</td>\n",
       "      <td></td>\n",
       "      <td></td>\n",
       "      <td></td>\n",
       "      <td></td>\n",
       "      <td></td>\n",
       "      <td></td>\n",
       "      <td>ZA</td>\n",
       "      <td></td>\n",
       "    </tr>\n",
       "    <tr>\n",
       "      <th>4</th>\n",
       "      <td>punta arenas</td>\n",
       "      <td></td>\n",
       "      <td></td>\n",
       "      <td></td>\n",
       "      <td></td>\n",
       "      <td></td>\n",
       "      <td></td>\n",
       "      <td>CL</td>\n",
       "      <td></td>\n",
       "    </tr>\n",
       "  </tbody>\n",
       "</table>\n",
       "</div>"
      ],
      "text/plain": [
       "           City Lat Lng Max Temp Humidity Cloudiness Wind Speed Country Date\n",
       "0       trofors                                                      NO     \n",
       "1        albany                                                      AU     \n",
       "2      la ronge                                                      CA     \n",
       "3    bredasdorp                                                      ZA     \n",
       "4  punta arenas                                                      CL     "
      ]
     },
     "execution_count": 5,
     "metadata": {},
     "output_type": "execute_result"
    }
   ],
   "source": [
    "# create a dataframe with empty columns of all the data we'll want\n",
    "weather_df = pd.DataFrame({\"City\": cities, \"Lat\": \"\", \"Lng\": \"\", \"Max Temp\": \"\", \n",
    "                          \"Humidity\": \"\", \"Cloudiness\": \"\", \"Wind Speed\": \"\",\n",
    "                          \"Country\": countries, \"Date\": \"\"})\n",
    "weather_df.head()"
   ]
  },
  {
   "cell_type": "markdown",
   "metadata": {},
   "source": [
    "### Perform API Calls\n",
    "* Perform a weather check on each city using a series of successive API calls.\n",
    "* Include a print log of each city as it'sbeing processed (with the city number and city name).\n"
   ]
  },
  {
   "cell_type": "code",
   "execution_count": 6,
   "metadata": {},
   "outputs": [
    {
     "name": "stdout",
     "output_type": "stream",
     "text": [
      "Beginning Data Retrieval\n",
      "-----------------------------\n",
      "Processing Record 1 of Set 1 | Trofors\n",
      "Processing Record 2 of Set 1 | Albany\n",
      "Processing Record 3 of Set 1 | La Ronge\n",
      "Processing Record 4 of Set 1 | Bredasdorp\n",
      "Processing Record 5 of Set 1 | Punta Arenas\n",
      "Processing Record 6 of Set 1 | Yellowknife\n",
      "Processing Record 7 of Set 1 | Meulaboh\n",
      "Processing Record 8 of Set 1 | Jacareacanga\n",
      "Processing Record 9 of Set 1 | Saint-Philippe\n",
      "City not found. Skipping...\n",
      "Processing Record 10 of Set 1 | Roebourne\n",
      "City not found. Skipping...\n",
      "Processing Record 11 of Set 1 | Aksarka\n",
      "Processing Record 12 of Set 1 | Jieshi\n",
      "Processing Record 13 of Set 1 | Mayumba\n",
      "Processing Record 14 of Set 1 | Rikitea\n",
      "Processing Record 15 of Set 1 | Terdāl\n",
      "Processing Record 16 of Set 1 | Ilulissat\n",
      "Processing Record 17 of Set 1 | Saratovskaya\n",
      "Processing Record 18 of Set 1 | Talnakh\n",
      "Processing Record 19 of Set 1 | Oban\n",
      "Processing Record 20 of Set 1 | Tuktoyaktuk\n",
      "Processing Record 21 of Set 1 | Lüderitz\n",
      "Processing Record 22 of Set 1 | Jamestown\n",
      "Processing Record 23 of Set 1 | Mbandaka\n",
      "Processing Record 24 of Set 1 | Tuatapere\n",
      "Processing Record 25 of Set 1 | Makkah al Mukarramah\n",
      "Processing Record 26 of Set 1 | Lebu\n",
      "Processing Record 27 of Set 1 | Tadine\n",
      "Processing Record 28 of Set 1 | Deputatsky\n",
      "Processing Record 29 of Set 1 | Hithadhoo\n",
      "Processing Record 30 of Set 1 | Port Hedland\n",
      "Processing Record 31 of Set 1 | Komatipoort\n",
      "Processing Record 32 of Set 1 | Dikson\n",
      "Processing Record 33 of Set 1 | Ushuaia\n",
      "Processing Record 34 of Set 1 | Valdivia\n",
      "Processing Record 35 of Set 1 | Saskylakh\n",
      "Processing Record 36 of Set 1 | Bluff\n",
      "Processing Record 37 of Set 1 | Mahébourg\n",
      "Processing Record 38 of Set 1 | Torbay\n",
      "Processing Record 39 of Set 1 | Busselton\n",
      "Processing Record 40 of Set 1 | Banda Aceh\n",
      "Processing Record 41 of Set 1 | Santa María del Oro\n",
      "Processing Record 42 of Set 1 | Port Alfred\n",
      "Processing Record 43 of Set 1 | New Norfolk\n",
      "Processing Record 44 of Set 1 | Chokurdakh\n",
      "Processing Record 45 of Set 1 | San Borja\n",
      "Processing Record 46 of Set 1 | Mayor Pablo Lagerenza\n",
      "Processing Record 47 of Set 1 | Geraldton\n",
      "Processing Record 48 of Set 1 | Longyearbyen\n",
      "Processing Record 49 of Set 1 | Qaanaaq\n",
      "Processing Record 50 of Set 1 | Pánuco\n",
      "Processing Record 1 of Set 2 | Santa Inês\n",
      "Processing Record 2 of Set 2 | Vacha\n",
      "City not found. Skipping...\n",
      "Processing Record 3 of Set 2 | Touros\n",
      "Processing Record 4 of Set 2 | Shimoda\n",
      "City not found. Skipping...\n",
      "Processing Record 5 of Set 2 | Žlutice\n",
      "City not found. Skipping...\n",
      "Processing Record 6 of Set 2 | Puerto Ayora\n",
      "Processing Record 7 of Set 2 | Khatanga\n",
      "Processing Record 8 of Set 2 | Hermanus\n",
      "Processing Record 9 of Set 2 | Vila Velha\n",
      "Processing Record 10 of Set 2 | Yulara\n",
      "Processing Record 11 of Set 2 | Guarapari\n",
      "Processing Record 12 of Set 2 | Isangel\n",
      "Processing Record 13 of Set 2 | Cape Town\n",
      "Processing Record 14 of Set 2 | Maumere\n",
      "Processing Record 15 of Set 2 | Coyhaique\n",
      "Processing Record 16 of Set 2 | Hobart\n",
      "City not found. Skipping...\n",
      "Processing Record 17 of Set 2 | Berlevåg\n",
      "Processing Record 18 of Set 2 | Lakes Entrance\n",
      "Processing Record 19 of Set 2 | Merauke\n",
      "Processing Record 20 of Set 2 | Thompson\n",
      "Processing Record 21 of Set 2 | Belaya Gora\n",
      "Processing Record 22 of Set 2 | Motygino\n",
      "Processing Record 23 of Set 2 | Vaini\n",
      "Processing Record 24 of Set 2 | Atuona\n",
      "Processing Record 25 of Set 2 | Avarua\n",
      "Processing Record 26 of Set 2 | Hilo\n",
      "Processing Record 27 of Set 2 | Iquique\n",
      "Processing Record 28 of Set 2 | Barrow\n",
      "Processing Record 29 of Set 2 | Pankrushikha\n",
      "Processing Record 30 of Set 2 | Tucuruí\n",
      "Processing Record 31 of Set 2 | Constitucion\n",
      "Processing Record 32 of Set 2 | Hay River\n",
      "Processing Record 33 of Set 2 | Wilmington\n",
      "Processing Record 34 of Set 2 | Mareeba\n",
      "Processing Record 35 of Set 2 | Arlit\n",
      "Processing Record 36 of Set 2 | East London\n",
      "Processing Record 37 of Set 2 | Bairiki Village\n",
      "Processing Record 38 of Set 2 | Ambilobe\n",
      "Processing Record 39 of Set 2 | Cedar City\n",
      "Processing Record 40 of Set 2 | Castro\n",
      "Processing Record 41 of Set 2 | Saldanha\n",
      "Processing Record 42 of Set 2 | Pacific Grove\n",
      "Processing Record 43 of Set 2 | Kapaa\n",
      "Processing Record 44 of Set 2 | Angoche\n",
      "Processing Record 45 of Set 2 | Brønnøysund\n",
      "Processing Record 46 of Set 2 | Dicabisagan\n",
      "Processing Record 47 of Set 2 | Norman Wells\n",
      "Processing Record 48 of Set 2 | Salalah\n",
      "Processing Record 49 of Set 2 | Joensuu\n",
      "City not found. Skipping...\n",
      "Processing Record 50 of Set 2 | Nushki\n",
      "Processing Record 1 of Set 3 | Aklavik\n",
      "Processing Record 2 of Set 3 | Padang\n",
      "Processing Record 3 of Set 3 | Komsomol'skiy\n",
      "Processing Record 4 of Set 3 | Qasigiannguit\n",
      "Processing Record 5 of Set 3 | Hirara\n",
      "Processing Record 6 of Set 3 | Nizhniy Lomov\n",
      "Processing Record 7 of Set 3 | Korla\n",
      "Processing Record 8 of Set 3 | Te Anau\n",
      "Processing Record 9 of Set 3 | Seoul\n",
      "Processing Record 10 of Set 3 | Verāval\n",
      "City not found. Skipping...\n",
      "Processing Record 11 of Set 3 | Victoria\n",
      "Processing Record 12 of Set 3 | Lagoa\n",
      "Processing Record 13 of Set 3 | Valparaíso\n",
      "Processing Record 14 of Set 3 | Xiangxiang\n",
      "Processing Record 15 of Set 3 | Batagay-Alyta\n",
      "Processing Record 16 of Set 3 | Alice Springs\n",
      "Processing Record 17 of Set 3 | Karratha\n",
      "Processing Record 18 of Set 3 | Chiang Rai\n",
      "Processing Record 19 of Set 3 | San Patricio\n",
      "Processing Record 20 of Set 3 | Chauk\n",
      "Processing Record 21 of Set 3 | Pevek\n",
      "Processing Record 22 of Set 3 | Ivanovka\n",
      "Processing Record 23 of Set 3 | Tasiilaq\n",
      "Processing Record 24 of Set 3 | Faanui\n",
      "Processing Record 25 of Set 3 | Nikolskoye\n",
      "Processing Record 26 of Set 3 | Ketchikan\n",
      "Processing Record 27 of Set 3 | Barcelos\n",
      "Processing Record 28 of Set 3 | Mehamn\n",
      "Processing Record 29 of Set 3 | Dublin\n",
      "City not found. Skipping...\n",
      "Processing Record 30 of Set 3 | Sakon Nakhon\n",
      "Processing Record 31 of Set 3 | Saint Paul Harbor\n",
      "Processing Record 32 of Set 3 | Tiksi\n",
      "City not found. Skipping...\n",
      "Processing Record 33 of Set 3 | Lunglei\n",
      "City not found. Skipping...\n",
      "City not found. Skipping...\n",
      "Processing Record 34 of Set 3 | Coquimbo\n",
      "Processing Record 35 of Set 3 | Qaqortoq\n",
      "City not found. Skipping...\n",
      "Processing Record 36 of Set 3 | Maputo\n",
      "Processing Record 37 of Set 3 | Bayamo\n",
      "Processing Record 38 of Set 3 | Ponta do Sol\n",
      "Processing Record 39 of Set 3 | Ribeira Grande\n",
      "Processing Record 40 of Set 3 | Fort Morgan\n",
      "Processing Record 41 of Set 3 | Praya\n",
      "Processing Record 42 of Set 3 | Rio Grande\n",
      "Processing Record 43 of Set 3 | Maturin\n",
      "Processing Record 44 of Set 3 | Alofi\n",
      "Processing Record 45 of Set 3 | Miles City\n",
      "Processing Record 46 of Set 3 | Esperance\n",
      "Processing Record 47 of Set 3 | Skjervøy\n",
      "Processing Record 48 of Set 3 | Dwārka\n",
      "Processing Record 49 of Set 3 | Melfi\n",
      "City not found. Skipping...\n",
      "Processing Record 50 of Set 3 | Morón\n",
      "City not found. Skipping...\n",
      "City not found. Skipping...\n",
      "Processing Record 1 of Set 4 | Hailar\n",
      "Processing Record 2 of Set 4 | Port Lincoln\n",
      "Processing Record 3 of Set 4 | Pangkalanbuun\n",
      "Processing Record 4 of Set 4 | Bambous Virieux\n",
      "Processing Record 5 of Set 4 | Glendive\n",
      "Processing Record 6 of Set 4 | Galveston\n",
      "Processing Record 7 of Set 4 | Boa Vista\n",
      "Processing Record 8 of Set 4 | Koslan\n",
      "Processing Record 9 of Set 4 | Sinjār\n",
      "Processing Record 10 of Set 4 | Lensk\n",
      "Processing Record 11 of Set 4 | Caucaia\n",
      "Processing Record 12 of Set 4 | Butaritari\n",
      "Processing Record 13 of Set 4 | Kruisfontein\n",
      "Processing Record 14 of Set 4 | Fairbanks\n",
      "Processing Record 15 of Set 4 | Clyde River\n",
      "Processing Record 16 of Set 4 | Gorontalo\n",
      "Processing Record 17 of Set 4 | Mar del Plata\n",
      "Processing Record 18 of Set 4 | Guane\n",
      "Processing Record 19 of Set 4 | Lompoc\n",
      "Processing Record 20 of Set 4 | Baharly\n",
      "Processing Record 21 of Set 4 | Cidreira\n",
      "Processing Record 22 of Set 4 | Nizwá\n",
      "Processing Record 23 of Set 4 | Nome\n",
      "Processing Record 24 of Set 4 | Coos Bay\n",
      "Processing Record 25 of Set 4 | Ubari\n",
      "Processing Record 26 of Set 4 | Port Elizabeth\n",
      "Processing Record 27 of Set 4 | Vulcan\n",
      "Processing Record 28 of Set 4 | Tautira\n",
      "Processing Record 29 of Set 4 | Port Hardy\n",
      "Processing Record 30 of Set 4 | Saint-François\n",
      "Processing Record 31 of Set 4 | Provideniya\n",
      "Processing Record 32 of Set 4 | Mayo\n",
      "Processing Record 33 of Set 4 | Stepnyak\n",
      "Processing Record 34 of Set 4 | Fenoarivo\n",
      "Processing Record 35 of Set 4 | Rørvik\n",
      "Processing Record 36 of Set 4 | Tianpeng\n",
      "Processing Record 37 of Set 4 | Port-Cartier\n",
      "Processing Record 38 of Set 4 | Coahuayana Viejo\n",
      "Processing Record 39 of Set 4 | Nantucket\n",
      "Processing Record 40 of Set 4 | Kapit\n",
      "Processing Record 41 of Set 4 | Vila Franca do Campo\n",
      "Processing Record 42 of Set 4 | Umeå\n",
      "Processing Record 43 of Set 4 | Nola\n",
      "Processing Record 44 of Set 4 | Ostrovnoy\n",
      "Processing Record 45 of Set 4 | Grand Gaube\n",
      "Processing Record 46 of Set 4 | Galle\n",
      "Processing Record 47 of Set 4 | Rundu\n",
      "Processing Record 48 of Set 4 | Aimorés\n",
      "Processing Record 49 of Set 4 | Upernavik\n",
      "Processing Record 50 of Set 4 | Dehu\n",
      "Processing Record 1 of Set 5 | Hasaki\n",
      "Processing Record 2 of Set 5 | Balabac\n",
      "Processing Record 3 of Set 5 | Dali\n",
      "Processing Record 4 of Set 5 | Souillac\n",
      "Processing Record 5 of Set 5 | Ipixuna\n",
      "Processing Record 6 of Set 5 | Saint George\n",
      "Processing Record 7 of Set 5 | Laguna\n",
      "Processing Record 8 of Set 5 | Kaitangata\n",
      "Processing Record 9 of Set 5 | Bezirk Affoltern\n",
      "Processing Record 10 of Set 5 | Saint-Augustin\n",
      "Processing Record 11 of Set 5 | Tot'ma\n",
      "Processing Record 12 of Set 5 | Megion\n",
      "Processing Record 13 of Set 5 | Dingle\n",
      "Processing Record 14 of Set 5 | Carnarvon\n",
      "Processing Record 15 of Set 5 | Dedza\n",
      "Processing Record 16 of Set 5 | Kirakira\n",
      "Processing Record 17 of Set 5 | Nanortalik\n",
      "Processing Record 18 of Set 5 | Toyooka\n",
      "Processing Record 19 of Set 5 | Zuwārah\n",
      "Processing Record 20 of Set 5 | Sovetskaya Gavan'\n",
      "Processing Record 21 of Set 5 | Arraial do Cabo\n",
      "Processing Record 22 of Set 5 | Sola\n",
      "Processing Record 23 of Set 5 | San Vicente\n",
      "City not found. Skipping...\n",
      "Processing Record 24 of Set 5 | Dukat\n",
      "Processing Record 25 of Set 5 | Rawson\n",
      "Processing Record 26 of Set 5 | Kavieng\n",
      "Processing Record 27 of Set 5 | Bengkulu\n",
      "Processing Record 28 of Set 5 | Gouré\n",
      "Processing Record 29 of Set 5 | Samarai\n",
      "Processing Record 30 of Set 5 | Casimiro de Abreu\n",
      "Processing Record 31 of Set 5 | Belmonte\n",
      "Processing Record 32 of Set 5 | Tual\n",
      "Processing Record 33 of Set 5 | Mombetsu\n",
      "City not found. Skipping...\n",
      "Processing Record 34 of Set 5 | Lincoln\n",
      "Processing Record 35 of Set 5 | Necochea\n",
      "Processing Record 36 of Set 5 | Ojinaga\n",
      "Processing Record 37 of Set 5 | Dalbandin\n",
      "Processing Record 38 of Set 5 | Klaksvík\n",
      "Processing Record 39 of Set 5 | Estelle\n",
      "City not found. Skipping...\n",
      "Processing Record 40 of Set 5 | Bubaque\n",
      "Processing Record 41 of Set 5 | Escanaba\n",
      "Processing Record 42 of Set 5 | Georgetown\n",
      "Processing Record 43 of Set 5 | Pisco\n",
      "Processing Record 44 of Set 5 | Gradignan\n",
      "City not found. Skipping...\n",
      "Processing Record 45 of Set 5 | Banepā\n",
      "Processing Record 46 of Set 5 | Našice\n",
      "Processing Record 47 of Set 5 | Flin Flon\n",
      "Processing Record 48 of Set 5 | Ahipara\n",
      "Processing Record 49 of Set 5 | Isla Mujeres\n",
      "Processing Record 50 of Set 5 | French Harbor\n",
      "Processing Record 1 of Set 6 | Rock Springs\n",
      "Processing Record 2 of Set 6 | Katsuura\n",
      "Processing Record 3 of Set 6 | Dunedin\n",
      "Processing Record 4 of Set 6 | Cherskiy\n",
      "Processing Record 5 of Set 6 | Selma\n",
      "Processing Record 6 of Set 6 | Chapais\n",
      "City not found. Skipping...\n",
      "Processing Record 7 of Set 6 | Pangnirtung\n",
      "City not found. Skipping...\n",
      "Processing Record 8 of Set 6 | Gao\n",
      "Processing Record 9 of Set 6 | Batagay\n",
      "Processing Record 10 of Set 6 | Chui\n",
      "Processing Record 11 of Set 6 | Carpenedolo\n",
      "City not found. Skipping...\n",
      "Processing Record 12 of Set 6 | Kantunilkín\n",
      "Processing Record 13 of Set 6 | Palmer\n",
      "Processing Record 14 of Set 6 | Le Vauclin\n",
      "City not found. Skipping...\n",
      "Processing Record 15 of Set 6 | Guerrero Negro\n",
      "Processing Record 16 of Set 6 | Mount Isa\n",
      "Processing Record 17 of Set 6 | Spencer\n",
      "Processing Record 18 of Set 6 | Egvekinot\n",
      "Processing Record 19 of Set 6 | Donghai\n",
      "Processing Record 20 of Set 6 | Leningradskiy\n",
      "Processing Record 21 of Set 6 | Paka\n",
      "Processing Record 22 of Set 6 | Kahului\n",
      "Processing Record 23 of Set 6 | Gewanē\n",
      "Processing Record 24 of Set 6 | Polonnaruwa\n",
      "Processing Record 25 of Set 6 | Kudahuvadhoo\n",
      "City not found. Skipping...\n",
      "Processing Record 26 of Set 6 | Jinchang\n",
      "Processing Record 27 of Set 6 | Bandarbeyla\n",
      "Processing Record 28 of Set 6 | Zhigansk\n",
      "Processing Record 29 of Set 6 | Naze\n",
      "Processing Record 30 of Set 6 | Nouadhibou\n",
      "Processing Record 31 of Set 6 | Krasne\n",
      "Processing Record 32 of Set 6 | Saint-Joseph\n",
      "Processing Record 33 of Set 6 | Asbestovskiy\n",
      "Processing Record 34 of Set 6 | Chiredzi\n",
      "City not found. Skipping...\n",
      "City not found. Skipping...\n",
      "Processing Record 35 of Set 6 | Pitimbu\n",
      "Processing Record 36 of Set 6 | Tayginka\n",
      "Processing Record 37 of Set 6 | Waipawa\n",
      "Processing Record 38 of Set 6 | Vrede\n",
      "Processing Record 39 of Set 6 | Mount Gambier\n",
      "Processing Record 40 of Set 6 | Chu\n",
      "Processing Record 41 of Set 6 | Bethel\n",
      "Processing Record 42 of Set 6 | Salekhard\n",
      "Processing Record 43 of Set 6 | Beamsville\n",
      "Processing Record 44 of Set 6 | Flinders\n",
      "Processing Record 45 of Set 6 | Oriximiná\n",
      "City not found. Skipping...\n",
      "Processing Record 46 of Set 6 | Kommunisticheskiy\n",
      "Processing Record 47 of Set 6 | Brae\n",
      "Processing Record 48 of Set 6 | Poya\n",
      "Processing Record 49 of Set 6 | Golubitskaya\n",
      "Processing Record 50 of Set 6 | Upata\n",
      "Processing Record 1 of Set 7 | Macklin\n",
      "Processing Record 2 of Set 7 | Kedrovyy\n",
      "Processing Record 3 of Set 7 | Aykhal\n",
      "Processing Record 4 of Set 7 | Santa María\n",
      "Processing Record 5 of Set 7 | Yar-Sale\n",
      "Processing Record 6 of Set 7 | Ancud\n",
      "Processing Record 7 of Set 7 | Porto Novo\n",
      "Processing Record 8 of Set 7 | Ozernovskiy\n",
      "Processing Record 9 of Set 7 | Port Hueneme\n",
      "Processing Record 10 of Set 7 | Great Falls\n",
      "Processing Record 11 of Set 7 | Grimshaw\n",
      "Processing Record 12 of Set 7 | Tommot\n",
      "Processing Record 13 of Set 7 | Bani Walid\n",
      "Processing Record 14 of Set 7 | Whitehorse\n",
      "Processing Record 15 of Set 7 | Carutapera\n",
      "Processing Record 16 of Set 7 | Umm Hājar\n",
      "Processing Record 17 of Set 7 | Brewster\n",
      "Processing Record 18 of Set 7 | Olavarría\n",
      "Processing Record 19 of Set 7 | Amahai\n",
      "Processing Record 20 of Set 7 | Fort Nelson\n",
      "Processing Record 21 of Set 7 | Tahe\n",
      "Processing Record 22 of Set 7 | Iqaluit\n",
      "Processing Record 23 of Set 7 | Zvishavane\n",
      "Processing Record 24 of Set 7 | Ambunti\n",
      "Processing Record 25 of Set 7 | Curillo\n",
      "Processing Record 26 of Set 7 | Ucluelet\n",
      "Processing Record 27 of Set 7 | Northam\n",
      "Processing Record 28 of Set 7 | Nueve de Julio\n",
      "Processing Record 29 of Set 7 | Sittwe\n",
      "Processing Record 30 of Set 7 | Spearfish\n",
      "Processing Record 31 of Set 7 | Ballina\n",
      "City not found. Skipping...\n",
      "City not found. Skipping...\n",
      "Processing Record 32 of Set 7 | Tomatlán\n",
      "Processing Record 33 of Set 7 | Formello\n",
      "Processing Record 34 of Set 7 | Aswān\n",
      "Processing Record 35 of Set 7 | Honiara\n",
      "Processing Record 36 of Set 7 | Vao\n",
      "Processing Record 37 of Set 7 | Road Town\n",
      "Processing Record 38 of Set 7 | Broome\n",
      "City not found. Skipping...\n",
      "Processing Record 39 of Set 7 | Tweed\n",
      "Processing Record 40 of Set 7 | Half Moon Bay\n",
      "Processing Record 41 of Set 7 | Yumen\n",
      "Processing Record 42 of Set 7 | Yayva\n",
      "Processing Record 43 of Set 7 | Dingzhou\n",
      "Processing Record 44 of Set 7 | Paamiut\n",
      "Processing Record 45 of Set 7 | Mama\n",
      "Processing Record 46 of Set 7 | Sayansk\n",
      "City not found. Skipping...\n",
      "Processing Record 47 of Set 7 | Westport\n",
      "City not found. Skipping...\n",
      "Processing Record 48 of Set 7 | Edéia\n",
      "Processing Record 49 of Set 7 | Payson\n",
      "Processing Record 50 of Set 7 | Bontang\n",
      "Processing Record 1 of Set 8 | Lavrentiya\n",
      "Processing Record 2 of Set 8 | Vangaindrano\n",
      "Processing Record 3 of Set 8 | Saharsa\n",
      "Processing Record 4 of Set 8 | Beidao\n",
      "Processing Record 5 of Set 8 | Port-Gentil\n",
      "Processing Record 6 of Set 8 | Saint-Pierre\n",
      "City not found. Skipping...\n",
      "City not found. Skipping...\n",
      "Processing Record 7 of Set 8 | Barentu\n",
      "Processing Record 8 of Set 8 | Altamira\n",
      "Processing Record 9 of Set 8 | Kloulklubed\n",
      "Processing Record 10 of Set 8 | Qandala\n",
      "Processing Record 11 of Set 8 | Sorsk\n",
      "Processing Record 12 of Set 8 | Portland\n",
      "Processing Record 13 of Set 8 | Thinadhoo\n",
      "Processing Record 14 of Set 8 | Macia\n",
      "Processing Record 15 of Set 8 | Karachi\n",
      "City not found. Skipping...\n",
      "Processing Record 16 of Set 8 | Quzhou\n",
      "Processing Record 17 of Set 8 | Omsukchan\n",
      "Processing Record 18 of Set 8 | Nabire\n",
      "Processing Record 19 of Set 8 | Jumla\n",
      "Processing Record 20 of Set 8 | Lokosovo\n",
      "Processing Record 21 of Set 8 | Altay\n",
      "City not found. Skipping...\n",
      "City not found. Skipping...\n",
      "Processing Record 22 of Set 8 | Shenjiamen\n",
      "Processing Record 23 of Set 8 | Turochak\n",
      "Processing Record 24 of Set 8 | Los Llanos de Aridane\n",
      "Processing Record 25 of Set 8 | Olafsvik\n",
      "Processing Record 26 of Set 8 | Xining\n",
      "Processing Record 27 of Set 8 | Mackay\n",
      "Processing Record 28 of Set 8 | Lorengau\n",
      "Processing Record 29 of Set 8 | Yueyang\n",
      "Processing Record 30 of Set 8 | Toora-Khem\n",
      "Processing Record 31 of Set 8 | Garmsār\n",
      "Processing Record 32 of Set 8 | Muisne\n",
      "Processing Record 33 of Set 8 | Shushenskoye\n",
      "Processing Record 34 of Set 8 | Gobabis\n",
      "Processing Record 35 of Set 8 | Koz'modem'yansk\n",
      "Processing Record 36 of Set 8 | Fortuna\n",
      "Processing Record 37 of Set 8 | Swakopmund\n",
      "Processing Record 38 of Set 8 | Grajaú\n",
      "Processing Record 39 of Set 8 | Beyla\n",
      "Processing Record 40 of Set 8 | Koboko\n",
      "Processing Record 41 of Set 8 | Atasū\n",
      "Processing Record 42 of Set 8 | Cabo San Lucas\n",
      "Processing Record 43 of Set 8 | Baie-Comeau\n",
      "Processing Record 44 of Set 8 | Ossora\n",
      "Processing Record 45 of Set 8 | Horodnya\n",
      "Processing Record 46 of Set 8 | Aranos\n",
      "Processing Record 47 of Set 8 | Arman'\n",
      "Processing Record 48 of Set 8 | Kiomboi\n",
      "City not found. Skipping...\n",
      "Processing Record 49 of Set 8 | Killybegs\n",
      "Processing Record 50 of Set 8 | Puerto Escondido\n",
      "Processing Record 1 of Set 9 | Puerto Guzmán\n",
      "Processing Record 2 of Set 9 | São Bento do Sul\n",
      "Processing Record 3 of Set 9 | Deniliquin\n",
      "Processing Record 4 of Set 9 | Invermere\n",
      "Processing Record 5 of Set 9 | Ondangwa\n",
      "Processing Record 6 of Set 9 | São Filipe\n",
      "Processing Record 7 of Set 9 | Cockburn Town\n",
      "City not found. Skipping...\n",
      "City not found. Skipping...\n",
      "City not found. Skipping...\n",
      "Processing Record 8 of Set 9 | Şebinkarahisar\n",
      "Processing Record 9 of Set 9 | Sur\n",
      "Processing Record 10 of Set 9 | Taksimo\n",
      "City not found. Skipping...\n",
      "Processing Record 11 of Set 9 | Porto Walter\n",
      "Processing Record 12 of Set 9 | Puerto del Rosario\n",
      "Processing Record 13 of Set 9 | Chongoyape\n",
      "Processing Record 14 of Set 9 | Morros\n",
      "Processing Record 15 of Set 9 | Rosario\n",
      "Processing Record 16 of Set 9 | Suleja\n",
      "Processing Record 17 of Set 9 | Hamilton\n",
      "City not found. Skipping...\n",
      "Processing Record 18 of Set 9 | Itaueira\n",
      "Processing Record 19 of Set 9 | Umluj\n",
      "Processing Record 20 of Set 9 | Comodoro Rivadavia\n",
      "Processing Record 21 of Set 9 | Vordingborg\n",
      "Processing Record 22 of Set 9 | Taltal\n",
      "Processing Record 23 of Set 9 | Vanavara\n",
      "Processing Record 24 of Set 9 | San Nicolas\n",
      "Processing Record 25 of Set 9 | Pervomays'k\n",
      "Processing Record 26 of Set 9 | Atbasar\n",
      "Processing Record 27 of Set 9 | Zheshart\n",
      "Processing Record 28 of Set 9 | Svetlogorsk\n",
      "Processing Record 29 of Set 9 | Yantal'\n",
      "Processing Record 30 of Set 9 | Hudson Bay\n",
      "Processing Record 31 of Set 9 | Bollnäs\n",
      "Processing Record 32 of Set 9 | Mgandu\n",
      "Processing Record 33 of Set 9 | Verkhnyaya Sinyachikha\n",
      "City not found. Skipping...\n",
      "Processing Record 34 of Set 9 | Mizdah\n",
      "Processing Record 35 of Set 9 | Petropavlovsk-Kamchatskiy\n",
      "Processing Record 36 of Set 9 | Vanimo\n",
      "Processing Record 37 of Set 9 | Safford\n",
      "Processing Record 38 of Set 9 | São Miguel do Araguaia\n",
      "Processing Record 39 of Set 9 | Gōtsuchō\n",
      "Processing Record 40 of Set 9 | Inta\n",
      "Processing Record 41 of Set 9 | Zhezkazgan\n",
      "Processing Record 42 of Set 9 | Hutchinson\n",
      "Processing Record 43 of Set 9 | Bétera\n",
      "Processing Record 44 of Set 9 | Manaure\n",
      "Processing Record 45 of Set 9 | Bud\n",
      "Processing Record 46 of Set 9 | Caravelas\n",
      "Processing Record 47 of Set 9 | Santa Luzia\n",
      "Processing Record 48 of Set 9 | Maryville\n",
      "Processing Record 49 of Set 9 | Antofagasta\n",
      "Processing Record 50 of Set 9 | Celestún\n",
      "Processing Record 1 of Set 10 | Beringovskiy\n",
      "Processing Record 2 of Set 10 | Pahrump\n",
      "Processing Record 3 of Set 10 | Iquitos\n",
      "Processing Record 4 of Set 10 | Moosomin\n",
      "Processing Record 5 of Set 10 | Calvià\n",
      "Processing Record 6 of Set 10 | Billings Metropolitan Area\n",
      "Processing Record 7 of Set 10 | Bryan\n",
      "Processing Record 8 of Set 10 | Dudinka\n",
      "Processing Record 9 of Set 10 | Vilhena\n",
      "Processing Record 10 of Set 10 | Candolim\n",
      "Processing Record 11 of Set 10 | Keti Bandar\n",
      "Processing Record 12 of Set 10 | Vardø\n",
      "Processing Record 13 of Set 10 | Shar\n",
      "Processing Record 14 of Set 10 | Trairi\n",
      "Processing Record 15 of Set 10 | Ngunguru\n",
      "Processing Record 16 of Set 10 | Chara\n",
      "Processing Record 17 of Set 10 | Kieta\n",
      "Processing Record 18 of Set 10 | Purpe\n",
      "Processing Record 19 of Set 10 | Ocampo\n",
      "Processing Record 20 of Set 10 | Catuday\n",
      "Processing Record 21 of Set 10 | Ciudad Guayana\n",
      "Processing Record 22 of Set 10 | Sassandra\n",
      "Processing Record 23 of Set 10 | Tabuk\n",
      "Processing Record 24 of Set 10 | Dzilam González\n",
      "Processing Record 25 of Set 10 | Algeciras\n",
      "Processing Record 26 of Set 10 | Selikhino\n",
      "Processing Record 27 of Set 10 | Chifeng\n",
      "Processing Record 28 of Set 10 | Balikpapan\n",
      "Processing Record 29 of Set 10 | Kenai\n",
      "Processing Record 30 of Set 10 | Navalmoral de la Mata\n",
      "Processing Record 31 of Set 10 | Makueni Boma\n",
      "Processing Record 32 of Set 10 | Santiago\n",
      "Processing Record 33 of Set 10 | Progreso\n",
      "Processing Record 34 of Set 10 | Kumul\n",
      "Processing Record 35 of Set 10 | Sargatskoye\n",
      "Processing Record 36 of Set 10 | Tikrit\n",
      "City not found. Skipping...\n",
      "Processing Record 37 of Set 10 | Bosaso\n",
      "City not found. Skipping...\n",
      "Processing Record 38 of Set 10 | Roseburg\n",
      "Processing Record 39 of Set 10 | Turgoyak\n",
      "Processing Record 40 of Set 10 | Biarritz\n",
      "Processing Record 41 of Set 10 | Tigil'\n",
      "City not found. Skipping...\n",
      "Processing Record 42 of Set 10 | Tungor\n",
      "Processing Record 43 of Set 10 | Toccoa\n",
      "Processing Record 44 of Set 10 | Mangan\n",
      "Processing Record 45 of Set 10 | Waddān\n",
      "Processing Record 46 of Set 10 | Plettenberg Bay\n",
      "Processing Record 47 of Set 10 | Serzhen'-Yurt\n",
      "Processing Record 48 of Set 10 | Torata\n",
      "Processing Record 49 of Set 10 | Southbridge\n",
      "City not found. Skipping...\n",
      "Processing Record 50 of Set 10 | Saint-Georges\n",
      "Processing Record 1 of Set 11 | Ulaanbaatar\n",
      "Processing Record 2 of Set 11 | Pingliang\n",
      "Processing Record 3 of Set 11 | ‘Āhuimanu\n",
      "Processing Record 4 of Set 11 | Viedma\n",
      "Processing Record 5 of Set 11 | Zima\n",
      "Processing Record 6 of Set 11 | Damietta\n",
      "City not found. Skipping...\n",
      "Processing Record 7 of Set 11 | Buchanan\n",
      "Processing Record 8 of Set 11 | Porbandar\n",
      "Processing Record 9 of Set 11 | Ternate\n",
      "Processing Record 10 of Set 11 | Aleksandrovka\n",
      "Processing Record 11 of Set 11 | Dillon\n",
      "Processing Record 12 of Set 11 | Adrar\n",
      "Processing Record 13 of Set 11 | Ayan\n",
      "Processing Record 14 of Set 11 | Contamana\n",
      "Processing Record 15 of Set 11 | Lesnoye\n",
      "Processing Record 16 of Set 11 | Smithers\n",
      "Processing Record 17 of Set 11 | Fort Saint James\n",
      "Processing Record 18 of Set 11 | Biltine\n",
      "Processing Record 19 of Set 11 | Quatre Cocos\n",
      "Processing Record 20 of Set 11 | Menongue\n",
      "City not found. Skipping...\n",
      "Processing Record 21 of Set 11 | Buluang\n",
      "Processing Record 22 of Set 11 | Darhan\n",
      "Processing Record 23 of Set 11 | Blyth\n",
      "Processing Record 24 of Set 11 | Sarkand\n",
      "Processing Record 25 of Set 11 | Margate\n",
      "Processing Record 26 of Set 11 | Øksfjord\n",
      "Processing Record 27 of Set 11 | Irpa Irpa\n",
      "Processing Record 28 of Set 11 | Luebo\n",
      "Processing Record 29 of Set 11 | Denpasar\n",
      "Processing Record 30 of Set 11 | Nouakchott\n",
      "Processing Record 31 of Set 11 | Aqsū\n",
      "Processing Record 32 of Set 11 | Aliwal North\n",
      "Processing Record 33 of Set 11 | Severo-Kuril'sk\n",
      "Processing Record 34 of Set 11 | Balezino\n",
      "Processing Record 35 of Set 11 | Ust'-Ishim\n",
      "Processing Record 36 of Set 11 | Stokmarknes\n",
      "Processing Record 37 of Set 11 | Chupa\n",
      "Processing Record 38 of Set 11 | Tres Arroyos\n",
      "Processing Record 39 of Set 11 | Kabompo\n",
      "Processing Record 40 of Set 11 | Sorong\n",
      "Processing Record 41 of Set 11 | Wanparti\n",
      "Processing Record 42 of Set 11 | Evensk\n",
      "Processing Record 43 of Set 11 | Qui Nhon\n",
      "City not found. Skipping...\n",
      "Processing Record 44 of Set 11 | Salem\n",
      "Processing Record 45 of Set 11 | Folldal\n",
      "Processing Record 46 of Set 11 | Narsaq\n",
      "Processing Record 47 of Set 11 | Batemans Bay\n",
      "Processing Record 48 of Set 11 | Rosetta\n",
      "Processing Record 49 of Set 11 | Douglas\n",
      "-----------------------------\n",
      "Data Retrieval Complete\n",
      "-----------------------------\n"
     ]
    }
   ],
   "source": [
    "#base url\n",
    "url = \"http://api.openweathermap.org/data/2.5/weather?\"\n",
    "blurb = \"-\"*29\n",
    "\n",
    "#counters\n",
    "recordnum = 1\n",
    "setnum = 1\n",
    "\n",
    "print(f\"Beginning Data Retrieval\")\n",
    "print(f\"{blurb}\")\n",
    "\n",
    "#iterate through the dataframe, for each index/row, take the city and country to form the query\n",
    "#use them along with the api key and making sure the units are in imperial\n",
    "for index, row in weather_df.iterrows():\n",
    "    query = url + \"appid=\" + weather_api_key + \"&q=\" + row[\"City\"] + \",\" + row[\"Country\"] + \"&units=imperial\"\n",
    "    #create a response using requests.get (and make sure it is converted into json)\n",
    "    response = requests.get(query).json()\n",
    "    \n",
    "    #for each api call, attempt to retrieve the coordinates, temperature, humidity, etc\n",
    "    try:\n",
    "        print(f\"Processing Record {recordnum} of Set {setnum} | {response['name']}\")\n",
    "        \n",
    "        weather_df.loc[index, \"Lat\"] = response[\"coord\"][\"lat\"]\n",
    "        weather_df.loc[index, \"Lng\"] = response[\"coord\"][\"lon\"]\n",
    "        weather_df.loc[index, \"Max Temp\"] = response[\"main\"][\"temp_max\"]\n",
    "        weather_df.loc[index, \"Humidity\"] = response[\"main\"][\"humidity\"]\n",
    "        weather_df.loc[index, \"Cloudiness\"] = response[\"clouds\"][\"all\"]\n",
    "        weather_df.loc[index, \"Wind Speed\"] = response[\"wind\"][\"speed\"]\n",
    "        weather_df.loc[index, \"Date\"] = response[\"dt\"]\n",
    "        \n",
    "        #increment the counter\n",
    "        recordnum += 1\n",
    "    \n",
    "    #if the city is not in the database, or if the data cannot be found, except\n",
    "    except (KeyError, IndexError):\n",
    "        print(f\"City not found. Skipping...\")\n",
    "    \n",
    "    #conditions for the counters, so that no more than 50 cities can be in each set\n",
    "    if recordnum == 51:\n",
    "        setnum += 1\n",
    "        recordnum = 1\n",
    "\n",
    "print(f\"{blurb}\")\n",
    "print(f\"Data Retrieval Complete\")\n",
    "print(f\"{blurb}\")"
   ]
  },
  {
   "cell_type": "markdown",
   "metadata": {},
   "source": [
    "### Convert Raw Data to DataFrame\n",
    "* Export the city data into a .csv.\n",
    "* Display the DataFrame"
   ]
  },
  {
   "cell_type": "code",
   "execution_count": 7,
   "metadata": {},
   "outputs": [
    {
     "data": {
      "text/plain": [
       "City          549\n",
       "Lat           549\n",
       "Lng           549\n",
       "Max Temp      549\n",
       "Humidity      549\n",
       "Cloudiness    549\n",
       "Wind Speed    549\n",
       "Country       549\n",
       "Date          549\n",
       "dtype: int64"
      ]
     },
     "execution_count": 7,
     "metadata": {},
     "output_type": "execute_result"
    }
   ],
   "source": [
    "#clean up the dataframe by dropping any rows that are missing data\n",
    "weather_df[\"Lat\"] = weather_df[\"Lat\"].replace(\"\", np.nan)\n",
    "weather_df = weather_df.dropna(how=\"any\")\n",
    "#name the index column and save the dataframe as a csv file\n",
    "weather_df.index.name = \"City_ID\"\n",
    "weather_df.to_csv(\"../Output/WeatherDatabyCity.csv\")\n",
    "#make sure no more data is missing\n",
    "weather_df.count()"
   ]
  },
  {
   "cell_type": "code",
   "execution_count": 8,
   "metadata": {},
   "outputs": [
    {
     "data": {
      "text/html": [
       "<div>\n",
       "<style scoped>\n",
       "    .dataframe tbody tr th:only-of-type {\n",
       "        vertical-align: middle;\n",
       "    }\n",
       "\n",
       "    .dataframe tbody tr th {\n",
       "        vertical-align: top;\n",
       "    }\n",
       "\n",
       "    .dataframe thead th {\n",
       "        text-align: right;\n",
       "    }\n",
       "</style>\n",
       "<table border=\"1\" class=\"dataframe\">\n",
       "  <thead>\n",
       "    <tr style=\"text-align: right;\">\n",
       "      <th></th>\n",
       "      <th>City</th>\n",
       "      <th>Lat</th>\n",
       "      <th>Lng</th>\n",
       "      <th>Max Temp</th>\n",
       "      <th>Humidity</th>\n",
       "      <th>Cloudiness</th>\n",
       "      <th>Wind Speed</th>\n",
       "      <th>Country</th>\n",
       "      <th>Date</th>\n",
       "    </tr>\n",
       "    <tr>\n",
       "      <th>City_ID</th>\n",
       "      <th></th>\n",
       "      <th></th>\n",
       "      <th></th>\n",
       "      <th></th>\n",
       "      <th></th>\n",
       "      <th></th>\n",
       "      <th></th>\n",
       "      <th></th>\n",
       "      <th></th>\n",
       "    </tr>\n",
       "  </thead>\n",
       "  <tbody>\n",
       "    <tr>\n",
       "      <th>0</th>\n",
       "      <td>trofors</td>\n",
       "      <td>65.53</td>\n",
       "      <td>13.41</td>\n",
       "      <td>55.4</td>\n",
       "      <td>76</td>\n",
       "      <td>75</td>\n",
       "      <td>4.7</td>\n",
       "      <td>NO</td>\n",
       "      <td>1595255907</td>\n",
       "    </tr>\n",
       "    <tr>\n",
       "      <th>1</th>\n",
       "      <td>albany</td>\n",
       "      <td>-35.02</td>\n",
       "      <td>117.89</td>\n",
       "      <td>50</td>\n",
       "      <td>81</td>\n",
       "      <td>90</td>\n",
       "      <td>6.93</td>\n",
       "      <td>AU</td>\n",
       "      <td>1595255907</td>\n",
       "    </tr>\n",
       "    <tr>\n",
       "      <th>2</th>\n",
       "      <td>la ronge</td>\n",
       "      <td>55.10</td>\n",
       "      <td>-105.28</td>\n",
       "      <td>62.6</td>\n",
       "      <td>88</td>\n",
       "      <td>75</td>\n",
       "      <td>3.36</td>\n",
       "      <td>CA</td>\n",
       "      <td>1595255907</td>\n",
       "    </tr>\n",
       "    <tr>\n",
       "      <th>3</th>\n",
       "      <td>bredasdorp</td>\n",
       "      <td>-34.53</td>\n",
       "      <td>20.04</td>\n",
       "      <td>64.4</td>\n",
       "      <td>72</td>\n",
       "      <td>40</td>\n",
       "      <td>5.82</td>\n",
       "      <td>ZA</td>\n",
       "      <td>1595255907</td>\n",
       "    </tr>\n",
       "    <tr>\n",
       "      <th>4</th>\n",
       "      <td>punta arenas</td>\n",
       "      <td>-53.15</td>\n",
       "      <td>-70.92</td>\n",
       "      <td>30.2</td>\n",
       "      <td>92</td>\n",
       "      <td>75</td>\n",
       "      <td>2.24</td>\n",
       "      <td>CL</td>\n",
       "      <td>1595255907</td>\n",
       "    </tr>\n",
       "  </tbody>\n",
       "</table>\n",
       "</div>"
      ],
      "text/plain": [
       "                 City    Lat     Lng Max Temp Humidity Cloudiness Wind Speed  \\\n",
       "City_ID                                                                        \n",
       "0             trofors  65.53   13.41     55.4       76         75        4.7   \n",
       "1              albany -35.02  117.89       50       81         90       6.93   \n",
       "2            la ronge  55.10 -105.28     62.6       88         75       3.36   \n",
       "3          bredasdorp -34.53   20.04     64.4       72         40       5.82   \n",
       "4        punta arenas -53.15  -70.92     30.2       92         75       2.24   \n",
       "\n",
       "        Country        Date  \n",
       "City_ID                      \n",
       "0            NO  1595255907  \n",
       "1            AU  1595255907  \n",
       "2            CA  1595255907  \n",
       "3            ZA  1595255907  \n",
       "4            CL  1595255907  "
      ]
     },
     "execution_count": 8,
     "metadata": {},
     "output_type": "execute_result"
    }
   ],
   "source": [
    "weather_df.head()"
   ]
  },
  {
   "cell_type": "markdown",
   "metadata": {},
   "source": [
    "## Inspect the data and remove the cities where the humidity > 100%.\n",
    "----\n",
    "Skip this step if there are no cities that have humidity > 100%. "
   ]
  },
  {
   "cell_type": "code",
   "execution_count": 9,
   "metadata": {},
   "outputs": [
    {
     "data": {
      "text/html": [
       "<div>\n",
       "<style scoped>\n",
       "    .dataframe tbody tr th:only-of-type {\n",
       "        vertical-align: middle;\n",
       "    }\n",
       "\n",
       "    .dataframe tbody tr th {\n",
       "        vertical-align: top;\n",
       "    }\n",
       "\n",
       "    .dataframe thead th {\n",
       "        text-align: right;\n",
       "    }\n",
       "</style>\n",
       "<table border=\"1\" class=\"dataframe\">\n",
       "  <thead>\n",
       "    <tr style=\"text-align: right;\">\n",
       "      <th></th>\n",
       "      <th>Lat</th>\n",
       "      <th>Lng</th>\n",
       "      <th>Max Temp</th>\n",
       "      <th>Humidity</th>\n",
       "      <th>Cloudiness</th>\n",
       "      <th>Wind Speed</th>\n",
       "      <th>Date</th>\n",
       "    </tr>\n",
       "  </thead>\n",
       "  <tbody>\n",
       "    <tr>\n",
       "      <th>count</th>\n",
       "      <td>549.000000</td>\n",
       "      <td>549.000000</td>\n",
       "      <td>549.000000</td>\n",
       "      <td>549.000000</td>\n",
       "      <td>549.000000</td>\n",
       "      <td>549.000000</td>\n",
       "      <td>5.490000e+02</td>\n",
       "    </tr>\n",
       "    <tr>\n",
       "      <th>mean</th>\n",
       "      <td>20.452732</td>\n",
       "      <td>17.319927</td>\n",
       "      <td>70.546066</td>\n",
       "      <td>68.052823</td>\n",
       "      <td>52.744991</td>\n",
       "      <td>7.235464</td>\n",
       "      <td>1.595256e+09</td>\n",
       "    </tr>\n",
       "    <tr>\n",
       "      <th>std</th>\n",
       "      <td>34.268348</td>\n",
       "      <td>92.603592</td>\n",
       "      <td>14.713074</td>\n",
       "      <td>22.693912</td>\n",
       "      <td>37.919534</td>\n",
       "      <td>4.819246</td>\n",
       "      <td>5.961953e+01</td>\n",
       "    </tr>\n",
       "    <tr>\n",
       "      <th>min</th>\n",
       "      <td>-54.800000</td>\n",
       "      <td>-179.170000</td>\n",
       "      <td>26.600000</td>\n",
       "      <td>1.000000</td>\n",
       "      <td>0.000000</td>\n",
       "      <td>0.360000</td>\n",
       "      <td>1.595256e+09</td>\n",
       "    </tr>\n",
       "    <tr>\n",
       "      <th>25%</th>\n",
       "      <td>-7.930000</td>\n",
       "      <td>-65.100000</td>\n",
       "      <td>59.000000</td>\n",
       "      <td>57.000000</td>\n",
       "      <td>15.000000</td>\n",
       "      <td>3.360000</td>\n",
       "      <td>1.595256e+09</td>\n",
       "    </tr>\n",
       "    <tr>\n",
       "      <th>50%</th>\n",
       "      <td>22.950000</td>\n",
       "      <td>23.370000</td>\n",
       "      <td>71.870000</td>\n",
       "      <td>72.000000</td>\n",
       "      <td>64.000000</td>\n",
       "      <td>6.620000</td>\n",
       "      <td>1.595256e+09</td>\n",
       "    </tr>\n",
       "    <tr>\n",
       "      <th>75%</th>\n",
       "      <td>50.700000</td>\n",
       "      <td>100.180000</td>\n",
       "      <td>81.230000</td>\n",
       "      <td>85.000000</td>\n",
       "      <td>90.000000</td>\n",
       "      <td>10.000000</td>\n",
       "      <td>1.595256e+09</td>\n",
       "    </tr>\n",
       "    <tr>\n",
       "      <th>max</th>\n",
       "      <td>78.220000</td>\n",
       "      <td>179.320000</td>\n",
       "      <td>113.850000</td>\n",
       "      <td>100.000000</td>\n",
       "      <td>100.000000</td>\n",
       "      <td>25.280000</td>\n",
       "      <td>1.595256e+09</td>\n",
       "    </tr>\n",
       "  </tbody>\n",
       "</table>\n",
       "</div>"
      ],
      "text/plain": [
       "              Lat         Lng    Max Temp    Humidity  Cloudiness  Wind Speed  \\\n",
       "count  549.000000  549.000000  549.000000  549.000000  549.000000  549.000000   \n",
       "mean    20.452732   17.319927   70.546066   68.052823   52.744991    7.235464   \n",
       "std     34.268348   92.603592   14.713074   22.693912   37.919534    4.819246   \n",
       "min    -54.800000 -179.170000   26.600000    1.000000    0.000000    0.360000   \n",
       "25%     -7.930000  -65.100000   59.000000   57.000000   15.000000    3.360000   \n",
       "50%     22.950000   23.370000   71.870000   72.000000   64.000000    6.620000   \n",
       "75%     50.700000  100.180000   81.230000   85.000000   90.000000   10.000000   \n",
       "max     78.220000  179.320000  113.850000  100.000000  100.000000   25.280000   \n",
       "\n",
       "               Date  \n",
       "count  5.490000e+02  \n",
       "mean   1.595256e+09  \n",
       "std    5.961953e+01  \n",
       "min    1.595256e+09  \n",
       "25%    1.595256e+09  \n",
       "50%    1.595256e+09  \n",
       "75%    1.595256e+09  \n",
       "max    1.595256e+09  "
      ]
     },
     "execution_count": 9,
     "metadata": {},
     "output_type": "execute_result"
    }
   ],
   "source": [
    "#there are no cities with a humidity above 100\n",
    "#still convert the object data of these columns into numeric\n",
    "weather_df[\"Lat\"] = weather_df[\"Lat\"].apply(pd.to_numeric, errors=\"coerce\")\n",
    "weather_df[\"Lng\"] = weather_df[\"Lng\"].apply(pd.to_numeric, errors=\"coerce\")\n",
    "weather_df[\"Max Temp\"] = weather_df[\"Max Temp\"].apply(pd.to_numeric, errors=\"coerce\")\n",
    "weather_df[\"Humidity\"] = weather_df[\"Humidity\"].apply(pd.to_numeric, errors=\"coerce\")\n",
    "weather_df[\"Cloudiness\"] = weather_df[\"Cloudiness\"].apply(pd.to_numeric, errors=\"coerce\")\n",
    "weather_df[\"Wind Speed\"] = weather_df[\"Wind Speed\"].apply(pd.to_numeric, errors=\"coerce\")\n",
    "weather_df[\"Date\"] = weather_df[\"Date\"].apply(pd.to_numeric, errors=\"coerce\")\n",
    "\n",
    "#so that we can check the max value of the humidity column\n",
    "weather_df.describe()"
   ]
  },
  {
   "cell_type": "code",
   "execution_count": 10,
   "metadata": {},
   "outputs": [
    {
     "data": {
      "text/plain": [
       "[]"
      ]
     },
     "execution_count": 10,
     "metadata": {},
     "output_type": "execute_result"
    }
   ],
   "source": [
    "#  Get the indices of cities that have humidity over 100%.\n",
    "index_label = weather_df[weather_df[\"Humidity\"] > 100].index.tolist()\n",
    "index_label"
   ]
  },
  {
   "cell_type": "code",
   "execution_count": 11,
   "metadata": {},
   "outputs": [
    {
     "data": {
      "text/html": [
       "<div>\n",
       "<style scoped>\n",
       "    .dataframe tbody tr th:only-of-type {\n",
       "        vertical-align: middle;\n",
       "    }\n",
       "\n",
       "    .dataframe tbody tr th {\n",
       "        vertical-align: top;\n",
       "    }\n",
       "\n",
       "    .dataframe thead th {\n",
       "        text-align: right;\n",
       "    }\n",
       "</style>\n",
       "<table border=\"1\" class=\"dataframe\">\n",
       "  <thead>\n",
       "    <tr style=\"text-align: right;\">\n",
       "      <th></th>\n",
       "      <th>City</th>\n",
       "      <th>Lat</th>\n",
       "      <th>Lng</th>\n",
       "      <th>Max Temp</th>\n",
       "      <th>Humidity</th>\n",
       "      <th>Cloudiness</th>\n",
       "      <th>Wind Speed</th>\n",
       "      <th>Country</th>\n",
       "      <th>Date</th>\n",
       "    </tr>\n",
       "    <tr>\n",
       "      <th>City_ID</th>\n",
       "      <th></th>\n",
       "      <th></th>\n",
       "      <th></th>\n",
       "      <th></th>\n",
       "      <th></th>\n",
       "      <th></th>\n",
       "      <th></th>\n",
       "      <th></th>\n",
       "      <th></th>\n",
       "    </tr>\n",
       "  </thead>\n",
       "  <tbody>\n",
       "    <tr>\n",
       "      <th>0</th>\n",
       "      <td>trofors</td>\n",
       "      <td>65.53</td>\n",
       "      <td>13.41</td>\n",
       "      <td>55.4</td>\n",
       "      <td>76</td>\n",
       "      <td>75</td>\n",
       "      <td>4.70</td>\n",
       "      <td>NO</td>\n",
       "      <td>1595255907</td>\n",
       "    </tr>\n",
       "    <tr>\n",
       "      <th>1</th>\n",
       "      <td>albany</td>\n",
       "      <td>-35.02</td>\n",
       "      <td>117.89</td>\n",
       "      <td>50.0</td>\n",
       "      <td>81</td>\n",
       "      <td>90</td>\n",
       "      <td>6.93</td>\n",
       "      <td>AU</td>\n",
       "      <td>1595255907</td>\n",
       "    </tr>\n",
       "    <tr>\n",
       "      <th>2</th>\n",
       "      <td>la ronge</td>\n",
       "      <td>55.10</td>\n",
       "      <td>-105.28</td>\n",
       "      <td>62.6</td>\n",
       "      <td>88</td>\n",
       "      <td>75</td>\n",
       "      <td>3.36</td>\n",
       "      <td>CA</td>\n",
       "      <td>1595255907</td>\n",
       "    </tr>\n",
       "    <tr>\n",
       "      <th>3</th>\n",
       "      <td>bredasdorp</td>\n",
       "      <td>-34.53</td>\n",
       "      <td>20.04</td>\n",
       "      <td>64.4</td>\n",
       "      <td>72</td>\n",
       "      <td>40</td>\n",
       "      <td>5.82</td>\n",
       "      <td>ZA</td>\n",
       "      <td>1595255907</td>\n",
       "    </tr>\n",
       "    <tr>\n",
       "      <th>4</th>\n",
       "      <td>punta arenas</td>\n",
       "      <td>-53.15</td>\n",
       "      <td>-70.92</td>\n",
       "      <td>30.2</td>\n",
       "      <td>92</td>\n",
       "      <td>75</td>\n",
       "      <td>2.24</td>\n",
       "      <td>CL</td>\n",
       "      <td>1595255907</td>\n",
       "    </tr>\n",
       "  </tbody>\n",
       "</table>\n",
       "</div>"
      ],
      "text/plain": [
       "                 City    Lat     Lng  Max Temp  Humidity  Cloudiness  \\\n",
       "City_ID                                                                \n",
       "0             trofors  65.53   13.41      55.4        76          75   \n",
       "1              albany -35.02  117.89      50.0        81          90   \n",
       "2            la ronge  55.10 -105.28      62.6        88          75   \n",
       "3          bredasdorp -34.53   20.04      64.4        72          40   \n",
       "4        punta arenas -53.15  -70.92      30.2        92          75   \n",
       "\n",
       "         Wind Speed Country        Date  \n",
       "City_ID                                  \n",
       "0              4.70      NO  1595255907  \n",
       "1              6.93      AU  1595255907  \n",
       "2              3.36      CA  1595255907  \n",
       "3              5.82      ZA  1595255907  \n",
       "4              2.24      CL  1595255907  "
      ]
     },
     "execution_count": 11,
     "metadata": {},
     "output_type": "execute_result"
    }
   ],
   "source": [
    "# Make a new dataframe and drop all humidity outliers (if there are any) by index\n",
    "city_data = weather_df\n",
    "\n",
    "for x in index_label:\n",
    "    city_data.drop(x)\n",
    "\n",
    "#save the new (and functionally identical) dataframe to a csv file\n",
    "city_data.to_csv(\"../Output/city_data.csv\")\n",
    "city_data.head()"
   ]
  },
  {
   "cell_type": "markdown",
   "metadata": {},
   "source": [
    "## Plotting the Data\n",
    "* Use proper labeling of the plots using plot titles (including date of analysis) and axes labels.\n",
    "* Save the plotted figures as .pngs."
   ]
  },
  {
   "cell_type": "markdown",
   "metadata": {},
   "source": [
    "## Latitude vs. Temperature Plot"
   ]
  },
  {
   "cell_type": "code",
   "execution_count": 12,
   "metadata": {},
   "outputs": [
    {
     "data": {
      "image/png": "[encoded data removed]",
      "text/plain": [
       "<Figure size 432x288 with 1 Axes>"
      ]
     },
     "metadata": {
      "needs_background": "light"
     },
     "output_type": "display_data"
    }
   ],
   "source": [
    "#use matplotlib to create scatter plots, the code is basically the same each time, only the variables change\n",
    "#facecolor=\"4C92C3\"\n",
    "plt.scatter(city_data[\"Lat\"], city_data[\"Max Temp\"], marker=\"o\")\n",
    "\n",
    "#make sure to create a title, and label the axes, and create a grid\n",
    "plt.title(f\"City Latitude vs. Max Temperature (7/20/2020)\")\n",
    "plt.ylabel(\"Max Temperature (F)\")\n",
    "plt.xlabel(\"Latitude\")\n",
    "plt.grid(True)\n",
    "\n",
    "#save the scatter plot as an image\n",
    "plt.savefig(\"../Output/Lat_vs_Temp.png\")\n",
    "#repeat this process for the next 4 scatter plots"
   ]
  },
  {
   "cell_type": "markdown",
   "metadata": {},
   "source": [
    "A scatter plot, using matplotlib, testing the correlation between a city's latitude and its maximum temperature (F)\n",
    "Shows that cities closer to the equator do tend to have a higher maxmimum temperature"
   ]
  },
  {
   "cell_type": "markdown",
   "metadata": {},
   "source": [
    "## Latitude vs. Humidity Plot"
   ]
  },
  {
   "cell_type": "code",
   "execution_count": 13,
   "metadata": {},
   "outputs": [
    {
     "data": {
      "image/png": "[encoded data removed]",
      "text/plain": [
       "<Figure size 432x288 with 1 Axes>"
      ]
     },
     "metadata": {
      "needs_background": "light"
     },
     "output_type": "display_data"
    }
   ],
   "source": [
    "plt.scatter(city_data[\"Lat\"], city_data[\"Humidity\"], marker=\"o\")\n",
    "\n",
    "plt.title(f\"City Latitude vs. Humidity (7/20/2020)\")\n",
    "plt.ylabel(\"Humidity (%)\")\n",
    "plt.xlabel(\"Latitude\")\n",
    "plt.grid(True)\n",
    "\n",
    "plt.savefig(\"../Output/Lat_vs_Humid.png\")"
   ]
  },
  {
   "cell_type": "markdown",
   "metadata": {},
   "source": [
    "A scatter plot, using matplotlib, testing the correlation between a city's latitude and its humidity\n",
    "Does not show a clear correlation between a city's latitude and its humidity\n",
    "Although there is a slight shape that suggests that cities around 30-50 N and (slightly less so for S) have lower humidities than other cities\n",
    "This is generally where the deserts of Earth exist (and deserts are bigger in the Northern Hemisphere, which explains the uneven distribution of this particular phenomenon between hemispheres)"
   ]
  },
  {
   "cell_type": "markdown",
   "metadata": {},
   "source": [
    "## Latitude vs. Cloudiness Plot"
   ]
  },
  {
   "cell_type": "code",
   "execution_count": 14,
   "metadata": {},
   "outputs": [
    {
     "data": {
      "image/png": "[encoded data removed]",
      "text/plain": [
       "<Figure size 432x288 with 1 Axes>"
      ]
     },
     "metadata": {
      "needs_background": "light"
     },
     "output_type": "display_data"
    }
   ],
   "source": [
    "plt.scatter(city_data[\"Lat\"], city_data[\"Cloudiness\"], marker=\"o\")\n",
    "\n",
    "plt.title(f\"City Latitude vs. Cloudiness (7/20/2020)\")\n",
    "plt.ylabel(\"Cloudiness (%)\")\n",
    "plt.xlabel(\"Latitude\")\n",
    "plt.grid(True)\n",
    "\n",
    "plt.savefig(\"../Output/Lat_vs_Cloud.png\")"
   ]
  },
  {
   "cell_type": "markdown",
   "metadata": {},
   "source": [
    "A scatter plot, using matplotlib, testing the correlation between a city's latitude and its cloud cover percentage\n",
    "Despite there being a clear shape, its difficult to determine what it suggests, as otherwise it appears totally random how much cloud cover a city will get depending on its latitude"
   ]
  },
  {
   "cell_type": "markdown",
   "metadata": {},
   "source": [
    "## Latitude vs. Wind Speed Plot"
   ]
  },
  {
   "cell_type": "code",
   "execution_count": 15,
   "metadata": {},
   "outputs": [
    {
     "data": {
      "image/png": "[encoded data removed]",
      "text/plain": [
       "<Figure size 432x288 with 1 Axes>"
      ]
     },
     "metadata": {
      "needs_background": "light"
     },
     "output_type": "display_data"
    }
   ],
   "source": [
    "plt.scatter(city_data[\"Lat\"], city_data[\"Wind Speed\"], marker=\"o\")\n",
    "\n",
    "plt.title(f\"City Latitude vs. Wind Speed (7/20/2020)\")\n",
    "plt.ylabel(\"Wind Speed (mph)\")\n",
    "plt.xlabel(\"Latitude\")\n",
    "plt.grid(True)\n",
    "\n",
    "plt.savefig(\"../Output/Lat_vs_Wind.png\")"
   ]
  },
  {
   "cell_type": "markdown",
   "metadata": {},
   "source": [
    "A scatter plot, using matplotlib, testing the correlation between a city's latitude and its wind speed (mph)\n",
    "Does not show a strong correlation, small suggestion that cities closer to the equator might have slightly higher windspeeds, which can be explained by the Corriolis Effect, but other factors (such as ocean currents, landmass, and if a city is on an island) have to be taken into consideration"
   ]
  },
  {
   "cell_type": "markdown",
   "metadata": {},
   "source": [
    "## Linear Regression"
   ]
  },
  {
   "cell_type": "code",
   "execution_count": 16,
   "metadata": {},
   "outputs": [],
   "source": [
    "# OPTIONAL: Create a function to create Linear Regression plots\n",
    "# using linregress and scipy.stats \n",
    "# determine the correlation coefficient using pearsonr, and use that to get the r-squared value\n",
    "# use the linregress variables to create an equation for the regression line\n",
    "# display both the r squared value and the regression line equation\n",
    "# plot the regression line onto the scatter plot that calls this function\n",
    "def regress(x,y):\n",
    "    import scipy.stats as st\n",
    "    corr = st.pearsonr(x, y)\n",
    "    corr1 = corr[0]\n",
    "    rsquare = round(corr1**2,6)\n",
    "    print(f\"The r-squared is: {rsquare}\")\n",
    "    \n",
    "    (slope, intercept, rvalue, pvalue, stderr) = linregress(x, y)\n",
    "    regress_values = x * slope + intercept\n",
    "    line_eq = \"y = \" + str(round(slope,2)) + \"x + \" + str(round(intercept,2))\n",
    "    plt.plot(x,regress_values,\"r-\")\n",
    "    print(f\"The regression line is: {line_eq}\")"
   ]
  },
  {
   "cell_type": "code",
   "execution_count": 17,
   "metadata": {},
   "outputs": [],
   "source": [
    "# Create Northern and Southern Hemisphere DataFrames\n",
    "# search only for northern hemisphere cities, and then only southern hemisphere cities\n",
    "# both include the equator\n",
    "northern_df = city_data.loc[(city_data[\"Lat\"] >= 0)]\n",
    "southern_df = city_data.loc[(city_data[\"Lat\"] <= 0)]"
   ]
  },
  {
   "cell_type": "markdown",
   "metadata": {},
   "source": [
    "####  Northern Hemisphere - Max Temp vs. Latitude Linear Regression"
   ]
  },
  {
   "cell_type": "code",
   "execution_count": 18,
   "metadata": {},
   "outputs": [
    {
     "name": "stdout",
     "output_type": "stream",
     "text": [
      "The r-squared is: 0.466983\n",
      "The regression line is: y = -0.5x + 92.09\n"
     ]
    },
    {
     "data": {
      "image/png": "[encoded data removed]",
      "text/plain": [
       "<Figure size 432x288 with 1 Axes>"
      ]
     },
     "metadata": {
      "needs_background": "light"
     },
     "output_type": "display_data"
    }
   ],
   "source": [
    "# create a scatter plot using the relevant columns from the data frames, and labeling the axes\n",
    "lat = northern_df[\"Lat\"]\n",
    "temp = northern_df[\"Max Temp\"]\n",
    "\n",
    "plt.scatter(lat, temp, marker=\"o\")\n",
    "plt.xlabel(\"Latitude\")\n",
    "plt.ylabel(\"Max Temp\")\n",
    "\n",
    "# call the regress function to output the numbers we want and to plot the regression line\n",
    "regress(lat,temp)\n",
    "# the rest of the regression lines will use the same basic code template"
   ]
  },
  {
   "cell_type": "markdown",
   "metadata": {},
   "source": [
    "Using a python function to run a linear regression analysis on the scatter plot for Northern Hemisphere cities against their maximum temperatures\n",
    "The line shows a moderate correlation: as cities appear farther north their maximum temperature decreases "
   ]
  },
  {
   "cell_type": "markdown",
   "metadata": {},
   "source": [
    "####  Southern Hemisphere - Max Temp vs. Latitude Linear Regression"
   ]
  },
  {
   "cell_type": "code",
   "execution_count": 19,
   "metadata": {},
   "outputs": [
    {
     "name": "stdout",
     "output_type": "stream",
     "text": [
      "The r-squared is: 0.678641\n",
      "The regression line is: y = 0.85x + 86.19\n"
     ]
    },
    {
     "data": {
      "image/png": "[encoded data removed]",
      "text/plain": [
       "<Figure size 432x288 with 1 Axes>"
      ]
     },
     "metadata": {
      "needs_background": "light"
     },
     "output_type": "display_data"
    }
   ],
   "source": [
    "lat = southern_df[\"Lat\"]\n",
    "temp = southern_df[\"Max Temp\"]\n",
    "\n",
    "plt.scatter(lat, temp, marker=\"o\")\n",
    "plt.xlabel(\"Latitude\")\n",
    "plt.ylabel(\"Max Temp\")\n",
    "\n",
    "regress(lat,temp)"
   ]
  },
  {
   "cell_type": "markdown",
   "metadata": {},
   "source": [
    "Using a python function to run a linear regression analysis on the scatter plot for Southern Hemisphere cities against their maximum temperatures\n",
    "The line shows a moderate correlation: as cities appear farther south their maximum temperature decreases"
   ]
  },
  {
   "cell_type": "markdown",
   "metadata": {},
   "source": [
    "####  Northern Hemisphere - Humidity (%) vs. Latitude Linear Regression"
   ]
  },
  {
   "cell_type": "code",
   "execution_count": 20,
   "metadata": {},
   "outputs": [
    {
     "name": "stdout",
     "output_type": "stream",
     "text": [
      "The r-squared is: 0.005305\n",
      "The regression line is: y = 0.08x + 65.68\n"
     ]
    },
    {
     "data": {
      "image/png": "[encoded data removed]",
      "text/plain": [
       "<Figure size 432x288 with 1 Axes>"
      ]
     },
     "metadata": {
      "needs_background": "light"
     },
     "output_type": "display_data"
    }
   ],
   "source": [
    "lat = northern_df[\"Lat\"]\n",
    "hum = northern_df[\"Humidity\"]\n",
    "\n",
    "plt.scatter(lat, hum, marker=\"o\")\n",
    "plt.xlabel(\"Latitude\")\n",
    "plt.ylabel(\"Humidity\")\n",
    "\n",
    "regress(lat,hum)"
   ]
  },
  {
   "cell_type": "markdown",
   "metadata": {},
   "source": [
    "Using a python function to run a linear regression analysis on the scatter plot for Nothern Hemisphere cities against their humidity\n",
    "The line shows practically no correlation, humidity cannot be predicted just by changing temperatures along latitudes, it appears to be a more complex phenomenon   "
   ]
  },
  {
   "cell_type": "markdown",
   "metadata": {},
   "source": [
    "####  Southern Hemisphere - Humidity (%) vs. Latitude Linear Regression"
   ]
  },
  {
   "cell_type": "code",
   "execution_count": 21,
   "metadata": {},
   "outputs": [
    {
     "name": "stdout",
     "output_type": "stream",
     "text": [
      "The r-squared is: 0.029349\n",
      "The regression line is: y = -0.3x + 59.85\n"
     ]
    },
    {
     "data": {
      "image/png": "[encoded data removed]",
      "text/plain": [
       "<Figure size 432x288 with 1 Axes>"
      ]
     },
     "metadata": {
      "needs_background": "light"
     },
     "output_type": "display_data"
    }
   ],
   "source": [
    "lat = southern_df[\"Lat\"]\n",
    "hum = southern_df[\"Humidity\"]\n",
    "\n",
    "plt.scatter(lat, hum, marker=\"o\")\n",
    "plt.xlabel(\"Latitude\")\n",
    "plt.ylabel(\"Humidity\")\n",
    "\n",
    "regress(lat,hum)"
   ]
  },
  {
   "cell_type": "markdown",
   "metadata": {},
   "source": [
    "Using a python function to run a linear regression analysis on the scatter plot for Southern Hemisphere cities against their humidity\n",
    "The line shows a very slightly stronger correlation than its northern counterpart, but still not enough to suggest any kind of meaningful relationship between humidity and latitude"
   ]
  },
  {
   "cell_type": "markdown",
   "metadata": {},
   "source": [
    "####  Northern Hemisphere - Cloudiness (%) vs. Latitude Linear Regression"
   ]
  },
  {
   "cell_type": "code",
   "execution_count": 22,
   "metadata": {},
   "outputs": [
    {
     "name": "stdout",
     "output_type": "stream",
     "text": [
      "The r-squared is: 0.000962\n",
      "The regression line is: y = -0.06x + 57.29\n"
     ]
    },
    {
     "data": {
      "image/png": "[encoded data removed]",
      "text/plain": [
       "<Figure size 432x288 with 1 Axes>"
      ]
     },
     "metadata": {
      "needs_background": "light"
     },
     "output_type": "display_data"
    }
   ],
   "source": [
    "lat = northern_df[\"Lat\"]\n",
    "cloud = northern_df[\"Cloudiness\"]\n",
    "\n",
    "plt.scatter(lat, cloud, marker=\"o\")\n",
    "plt.xlabel(\"Latitude\")\n",
    "plt.ylabel(\"Cloudiness\")\n",
    "\n",
    "regress(lat,cloud)"
   ]
  },
  {
   "cell_type": "markdown",
   "metadata": {},
   "source": [
    "Using a python function to run a linear regression analysis on the scatter plot for Northern Hemisphere cities against their cloud cover percentage\n",
    "The line shows absolutely no correlation at all, clouds are not dependent on latitude to form"
   ]
  },
  {
   "cell_type": "markdown",
   "metadata": {},
   "source": [
    "####  Southern Hemisphere - Cloudiness (%) vs. Latitude Linear Regression"
   ]
  },
  {
   "cell_type": "code",
   "execution_count": 23,
   "metadata": {},
   "outputs": [
    {
     "name": "stdout",
     "output_type": "stream",
     "text": [
      "The r-squared is: 0.010098\n",
      "The regression line is: y = -0.28x + 42.08\n"
     ]
    },
    {
     "data": {
      "image/png": "[encoded data removed]",
      "text/plain": [
       "<Figure size 432x288 with 1 Axes>"
      ]
     },
     "metadata": {
      "needs_background": "light"
     },
     "output_type": "display_data"
    }
   ],
   "source": [
    "lat = southern_df[\"Lat\"]\n",
    "cloud = southern_df[\"Cloudiness\"]\n",
    "\n",
    "plt.scatter(lat, cloud, marker=\"o\")\n",
    "plt.xlabel(\"Latitude\")\n",
    "plt.ylabel(\"Cloudiness\")\n",
    "\n",
    "regress(lat,cloud)"
   ]
  },
  {
   "cell_type": "markdown",
   "metadata": {},
   "source": [
    "Using a python function to run a linear regression analysis on the scatter plot for Southern Hemisphere cities against their cloud cover percentage\n",
    "The line again (coincidentally) shows a slightly stronger correlation than its northern counterpart, but it still does not suggest any kind of relationship "
   ]
  },
  {
   "cell_type": "markdown",
   "metadata": {},
   "source": [
    "####  Northern Hemisphere - Wind Speed (mph) vs. Latitude Linear Regression"
   ]
  },
  {
   "cell_type": "code",
   "execution_count": 24,
   "metadata": {},
   "outputs": [
    {
     "name": "stdout",
     "output_type": "stream",
     "text": [
      "The r-squared is: 0.007185\n",
      "The regression line is: y = -0.02x + 7.62\n"
     ]
    },
    {
     "data": {
      "image/png": "[encoded data removed]",
      "text/plain": [
       "<Figure size 432x288 with 1 Axes>"
      ]
     },
     "metadata": {
      "needs_background": "light"
     },
     "output_type": "display_data"
    }
   ],
   "source": [
    "lat = northern_df[\"Lat\"]\n",
    "wind = northern_df[\"Wind Speed\"]\n",
    "\n",
    "plt.scatter(lat, wind, marker=\"o\")\n",
    "plt.xlabel(\"Latitude\")\n",
    "plt.ylabel(\"Wind Speed\")\n",
    "\n",
    "regress(lat,wind)"
   ]
  },
  {
   "cell_type": "markdown",
   "metadata": {},
   "source": [
    "Using a python function to run a linear regression analysis on the scatter plot for Northern Hemisphere cities against their wind speed\n",
    "The line shows no correlation between latitude and wind speed  "
   ]
  },
  {
   "cell_type": "markdown",
   "metadata": {},
   "source": [
    "####  Southern Hemisphere - Wind Speed (mph) vs. Latitude Linear Regression"
   ]
  },
  {
   "cell_type": "code",
   "execution_count": 25,
   "metadata": {},
   "outputs": [
    {
     "name": "stdout",
     "output_type": "stream",
     "text": [
      "The r-squared is: 0.014107\n",
      "The regression line is: y = 0.04x + 9.03\n"
     ]
    },
    {
     "data": {
      "image/png": "[encoded data removed]",
      "text/plain": [
       "<Figure size 432x288 with 1 Axes>"
      ]
     },
     "metadata": {
      "needs_background": "light"
     },
     "output_type": "display_data"
    }
   ],
   "source": [
    "lat = southern_df[\"Lat\"]\n",
    "wind = southern_df[\"Wind Speed\"]\n",
    "\n",
    "plt.scatter(lat, wind, marker=\"o\")\n",
    "plt.xlabel(\"Latitude\")\n",
    "plt.ylabel(\"Wind Speed\")\n",
    "\n",
    "regress(lat,wind)"
   ]
  },
  {
   "cell_type": "markdown",
   "metadata": {},
   "source": [
    "Using a python function to run a linear regression analysis on the scatter plot for Southern Hemisphere cities against their wind speed\n",
    "The line shows no correlation between latitude and wind speed, but it is stronger than the nothern one"
   ]
  }
 ],
 "metadata": {
  "anaconda-cloud": {},
  "kernel_info": {
   "name": "python3"
  },
  "kernelspec": {
   "display_name": "Python 3",
   "language": "python",
   "name": "python3"
  },
  "language_info": {
   "codemirror_mode": {
    "name": "ipython",
    "version": 3
   },
   "file_extension": ".py",
   "mimetype": "text/x-python",
   "name": "python",
   "nbconvert_exporter": "python",
   "pygments_lexer": "ipython3",
   "version": "3.7.6"
  },
  "latex_envs": {
   "LaTeX_envs_menu_present": true,
   "autoclose": false,
   "autocomplete": true,
   "bibliofile": "biblio.bib",
   "cite_by": "apalike",
   "current_citInitial": 1,
   "eqLabelWithNumbers": true,
   "eqNumInitial": 1,
   "hotkeys": {
    "equation": "Ctrl-E",
    "itemize": "Ctrl-I"
   },
   "labels_anchors": false,
   "latex_user_defs": false,
   "report_style_numbering": false,
   "user_envs_cfg": false
  },
  "nteract": {
   "version": "0.12.3"
  }
 },
 "nbformat": 4,
 "nbformat_minor": 4
}
